{
  "nbformat": 4,
  "nbformat_minor": 0,
  "metadata": {
    "colab": {
      "name": "snapchat-like-filters (git_copy).ipynb",
      "version": "0.3.2",
      "provenance": [],
      "collapsed_sections": []
    },
    "kernelspec": {
      "name": "python3",
      "display_name": "Python 3"
    },
    "accelerator": "GPU"
  },
  "cells": [
    {
      "metadata": {
        "id": "Hv8Xd-A3QJsD",
        "colab_type": "text"
      },
      "cell_type": "markdown",
      "source": [
        "# **Defining Model Architecture**"
      ]
    },
    {
      "metadata": {
        "id": "ft1H-urz6U1w",
        "colab_type": "code",
        "colab": {}
      },
      "cell_type": "code",
      "source": [
        "from keras.models import Sequential\n",
        "from keras.models import load_model\n",
        "from keras.layers import Convolution2D, MaxPooling2D, Dropout\n",
        "from keras.layers import Flatten, Dense\n",
        "from keras.optimizers import SGD, RMSprop, Adagrad, Adadelta, Adam, Adamax, Nadam\n",
        "\n",
        "class landmark_detection:\n",
        "  def __init__(self):\n",
        "    pass\n",
        "  \n",
        "  def getModel(self):\n",
        "    model=Sequential()\n",
        "    model.add(Convolution2D(32,(5,5), input_shape=(96,96,1), activation='relu'))\n",
        "    model.add(MaxPooling2D(pool_size=(2,2)))\n",
        "    \n",
        "    model.add(Convolution2D(64, (3, 3), activation='relu'))\n",
        "    model.add(MaxPooling2D(pool_size=(2, 2)))\n",
        "    model.add(Dropout(0.1))\n",
        "\n",
        "    model.add(Convolution2D(128, (3, 3), activation='relu'))\n",
        "    model.add(MaxPooling2D(pool_size=(2, 2)))\n",
        "    model.add(Dropout(0.2))\n",
        "\n",
        "    model.add(Convolution2D(30, (3, 3), activation='relu'))\n",
        "    model.add(MaxPooling2D(pool_size=(2, 2)))\n",
        "    model.add(Dropout(0.3))\n",
        "\n",
        "    model.add(Flatten())\n",
        "\n",
        "    model.add(Dense(64, activation='relu'))\n",
        "    model.add(Dense(128, activation='relu'))\n",
        "    model.add(Dense(256, activation='relu'))\n",
        "    model.add(Dense(64, activation='relu'))\n",
        "    model.add(Dense(30))\n",
        "    \n",
        "    return model\n",
        "  \n",
        "  def modelCompile(self, model, optimizer, loss, metrics):\n",
        "    model.compile(optimizer=optimizer, loss=loss, metrics=metrics)\n",
        "    \n",
        "  def modelTrain(self, model, X_train, Y_train, epochs=100):\n",
        "    return model.fit(X_train, Y_train, epochs=epochs, batch_size=200, verbose=1, validation_split=0.2)\n",
        "  \n",
        "  def modelSave(self, model, filename):\n",
        "    model.save(filename+'.h5')\n",
        "    \n",
        "  def loadModel(self, filename):\n",
        "    return load_model(filename+'.h5')"
      ],
      "execution_count": 0,
      "outputs": []
    },
    {
      "metadata": {
        "id": "ApZ8639IQcdA",
        "colab_type": "text"
      },
      "cell_type": "markdown",
      "source": [
        "# **Training the model to detect landmarks**"
      ]
    },
    {
      "metadata": {
        "id": "8opGqiaOWKjj",
        "colab_type": "code",
        "colab": {}
      },
      "cell_type": "code",
      "source": [
        "import pandas as pd\n",
        "import time\n",
        "import cv2\n",
        "import numpy as np\n",
        "import os\n",
        "import matplotlib.pyplot as plt\n",
        "from keras.models import load_model\n",
        "from pandas.io.parsers import read_csv\n",
        "from sklearn.utils import shuffle\n",
        "\n",
        "def datal(df):\n",
        "    df['Image'] = df['Image'].apply(lambda im: np.fromstring(im, sep=' '))\n",
        "    df = df.dropna()\n",
        "    X = np.vstack(df['Image'].values) / 255.\n",
        "    X = X.astype(np.float32)\n",
        "    X = X.reshape(-1, 96, 96, 1)\n",
        "    y = df[df.columns[:-1]].values\n",
        "    y = (y - 48) / 48\n",
        "    X, y = shuffle(X, y, random_state=42)\n",
        "    y = y.astype(np.float32)\n",
        "    return X, y\n",
        "\n",
        "\n",
        "start_time = time.time()\n",
        "train=pd.read_csv(\"training.csv\")\n",
        "x_train, y_train= datal(train)\n",
        "\n",
        "obj=landmark_detection()\n",
        "model=obj.getModel()\n",
        "obj.modelCompile(model,'adam', 'mean_squared_error', ['accuracy'])\n",
        "hist=obj.modelTrain(model, x_train, y_train)\n",
        "obj.modelSave(model,\"landmarkmodel\")\n",
        "\n",
        "end_time = time.time()\n",
        "print(end_time - start_time)"
      ],
      "execution_count": 0,
      "outputs": []
    },
    {
      "metadata": {
        "id": "PvWDNCApQpbh",
        "colab_type": "text"
      },
      "cell_type": "markdown",
      "source": [
        "# **Adding filter to the video and creating the new video**"
      ]
    },
    {
      "metadata": {
        "id": "T3vrq_0cXDuc",
        "colab_type": "code",
        "colab": {}
      },
      "cell_type": "code",
      "source": [
        "import cv2\n",
        "import numpy as np\n",
        "\n",
        "def convert_frames_to_video(fps,frame_myself):\n",
        "    pathOut = 'video_no_demotpetcetc.avi'\n",
        "    frame_array = []\n",
        "    size=(0,0)\n",
        "    for i in frame_myself:\n",
        "        height, width, layers = i.shape\n",
        "        size = (width,height)\n",
        "        frame_array.append(i)\n",
        "    out = cv2.VideoWriter(pathOut,cv2.VideoWriter_fourcc(*'DIVX'), fps, size)\n",
        "    for i in range(len(frame_array)):\n",
        "         out.write(frame_array[i])\n",
        "    out.release()\n",
        "\n",
        "my_model = landmark_detection().loadModel('landmarkmodel')\n",
        "face_cascade = cv2.CascadeClassifier('haarcascade_frontalface_default.xml')\n",
        "\n",
        "filters = ['sunglasses.png', 'sunglasses_2.png', 'sunglasses_3.jpg', 'sunglasses_4.png', 'sunglasses_5.jpg', 'sunglasses_6.png']\n",
        "filterIndex = 2\n",
        "videofilename=\"landmark detection.mp4\"\n",
        "cap = cv2.VideoCapture(videofilename)\n",
        "frame_myself=[]\n",
        "while(cap.isOpened()):\n",
        "    (grabbed, frame)= cap.read()\n",
        "    if frame is None:\n",
        "      break\n",
        "    frame = cv2.flip(frame, 1)\n",
        "    frame2 = np.copy(frame)\n",
        "    hsv = cv2.cvtColor(frame, cv2.COLOR_BGR2HSV)\n",
        "    gray = cv2.cvtColor(frame, cv2.COLOR_BGR2GRAY)\n",
        "    faces = face_cascade.detectMultiScale(gray, 1.25, 6)\n",
        "    for (x, y, w, h) in faces:\n",
        "        gray_face = gray[y:y+h, x:x+w]\n",
        "        color_face = frame[y:y+h, x:x+w]\n",
        "        gray_normalized = gray_face / 255\n",
        "        original_shape = gray_face.shape\n",
        "        face_resized = cv2.resize(gray_normalized, (96, 96), interpolation = cv2.INTER_AREA)\n",
        "        face_resized_copy = face_resized.copy()\n",
        "        face_resized = face_resized.reshape(1, 96, 96, 1)\n",
        "        keypoints = my_model.predict(face_resized)\n",
        "        keypoints = keypoints * 48 + 48\n",
        "        face_resized_color = cv2.resize(color_face, (96, 96), interpolation = cv2.INTER_AREA)\n",
        "        face_resized_color2 = np.copy(face_resized_color)\n",
        "        points = []\n",
        "        for i, co in enumerate(keypoints[0][0::2]):\n",
        "            points.append((co, keypoints[0][1::2][i]))\n",
        "        sunglasses = cv2.imread(filters[filterIndex], cv2.IMREAD_UNCHANGED)\n",
        "        sunglass_width = int((points[7][0]-points[9][0])*1.1)\n",
        "        sunglass_height = int((points[10][1]-points[8][1])/1.1)\n",
        "        sunglass_resized = cv2.resize(sunglasses, (sunglass_width, sunglass_height), interpolation = cv2.INTER_CUBIC)\n",
        "        transparent_region = sunglass_resized[:,:,:3] != 0\n",
        "        face_resized_color[int(points[9][1]):int(points[9][1])+sunglass_height, int(points[9][0]):int(points[9][0])+sunglass_width,:][transparent_region] = sunglass_resized[:,:,:3][transparent_region]\n",
        "        frame[y:y+h, x:x+w] = cv2.resize(face_resized_color, original_shape, interpolation = cv2.INTER_CUBIC)\n",
        "        for keypoint in points:\n",
        "            cv2.circle(face_resized_color2, keypoint, 1, (0,255,0), 1)\n",
        "        frame2[y:y+h, x:x+w] = cv2.resize(face_resized_color2, original_shape, interpolation = cv2.INTER_CUBIC)\n",
        "        frame_myself.append(frame)\n",
        "\n",
        "    \n",
        "    if cv2.waitKey(1) & 0xFF == ord('q'):\n",
        "        break\n",
        "    \n",
        "cap.release()\n",
        "cv2.destroyAllWindows()\n",
        "fps = 20.0\n",
        "convert_frames_to_video(fps,frame_myself)"
      ],
      "execution_count": 0,
      "outputs": []
    },
    {
      "metadata": {
        "id": "tX_FzjIF1Isj",
        "colab_type": "code",
        "colab": {}
      },
      "cell_type": "code",
      "source": [
        ""
      ],
      "execution_count": 0,
      "outputs": []
    }
  ]
}